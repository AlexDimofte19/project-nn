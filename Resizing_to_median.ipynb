{
 "cells": [
  {
   "cell_type": "code",
   "execution_count": 2,
   "metadata": {},
   "outputs": [],
   "source": [
    "from PIL import Image\n",
    "import cv2\n",
    "import os\n",
    "import glob\n",
    "import numpy as np"
   ]
  },
  {
   "cell_type": "code",
   "execution_count": 4,
   "metadata": {},
   "outputs": [],
   "source": [
    "width = []\n",
    "height = []"
   ]
  },
  {
   "cell_type": "code",
   "execution_count": 5,
   "metadata": {},
   "outputs": [],
   "source": [
    "img_path = r\"C:\\Users\\jakub\\Documents\\Bachelor AI\\Year 2\\Neural Networks\\projekt\\chest_xray\\train\"\n",
    "for root, dirs, files in os.walk(img_path):\n",
    "    for file in files:\n",
    "        if file.endswith(\".jpeg\"):\n",
    "            img = cv2.imread(os.path.join(root, file))\n",
    "            h, w, c = img.shape\n",
    "            width.append(w)\n",
    "            height.append(h)\n",
    "            \n",
    "            "
   ]
  },
  {
   "cell_type": "code",
   "execution_count": 6,
   "metadata": {},
   "outputs": [
    {
     "name": "stdout",
     "output_type": "stream",
     "text": [
      "1284\n",
      "888\n"
     ]
    }
   ],
   "source": [
    "width_median = int(np.median(width))\n",
    "height_median = int(np.median(height))\n",
    "dsize = (width_median, height_median)\n",
    "print(width_median)\n",
    "print(height_median)"
   ]
  },
  {
   "cell_type": "code",
   "execution_count": 7,
   "metadata": {},
   "outputs": [],
   "source": [
    "for root, dirs, files in os.walk(img_path):\n",
    "    for file in files:\n",
    "        if file.endswith(\".jpeg\"):\n",
    "            img = cv2.imread(os.path.join(root, file))\n",
    "            output = cv2.resize(img, dsize)\n",
    "            cv2.imwrite(os.path.join(root, file),output) \n",
    "            "
   ]
  },
  {
   "cell_type": "code",
   "execution_count": null,
   "metadata": {},
   "outputs": [],
   "source": [
    "#the median is taken only based on the training dataset, \n",
    "#still need to convert test and validation"
   ]
  }
 ],
 "metadata": {
  "kernelspec": {
   "display_name": "Python 3",
   "language": "python",
   "name": "python3"
  },
  "language_info": {
   "codemirror_mode": {
    "name": "ipython",
    "version": 3
   },
   "file_extension": ".py",
   "mimetype": "text/x-python",
   "name": "python",
   "nbconvert_exporter": "python",
   "pygments_lexer": "ipython3",
   "version": "3.8.5"
  }
 },
 "nbformat": 4,
 "nbformat_minor": 4
}
