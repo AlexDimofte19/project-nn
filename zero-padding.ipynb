{
 "cells": [
  {
   "cell_type": "code",
   "execution_count": 2,
   "metadata": {
    "collapsed": true
   },
   "outputs": [
    {
     "name": "stdout",
     "output_type": "stream",
     "text": [
      "D:\\Uni\\yr2\\B2\\Neural Networks\\Repository\\project-nn\n"
     ]
    }
   ],
   "source": [
    "import cv2\n",
    "from matplotlib import pyplot as plt\n",
    "\n",
    "import numpy as np # linear algebra\n",
    "import pandas as pd # data processing, CSV file I/O (e.g. pd.read_csv)\n",
    "\n",
    "import os"
   ]
  },
  {
   "cell_type": "code",
   "execution_count": 45,
   "outputs": [
    {
     "name": "stdout",
     "output_type": "stream",
     "text": [
      "2916 2713\n"
     ]
    }
   ],
   "source": [
    "max_h = 0\n",
    "max_w = 0\n",
    "for dirname, _, filenames in os.walk(\"data\"):\n",
    "    for filename in filenames:\n",
    "        if filename != \".DS_Store\":\n",
    "            im = cv2.imread(dirname + \"/\" + filename, cv2.IMREAD_GRAYSCALE)\n",
    "            height, width = im.shape\n",
    "            if height > max_h:\n",
    "                max_h = height\n",
    "            if width > max_w:\n",
    "                max_w = width\n",
    "\n",
    "print(max_w, max_h)"
   ],
   "metadata": {
    "collapsed": false,
    "pycharm": {
     "name": "#%%\n"
    }
   }
  },
  {
   "cell_type": "code",
   "execution_count": null,
   "outputs": [
    {
     "name": "stdout",
     "output_type": "stream",
     "text": [
      "data_padded\\\n",
      "Successfully created the directory data_padded\\\n",
      "data_padded\\test\n",
      "Successfully created the directory data_padded\\test\n",
      "data_padded\\test\\NORMAL\n",
      "Successfully created the directory data_padded\\test\\NORMAL\n",
      "data_padded\\test\\PNEUMONIA\n",
      "Successfully created the directory data_padded\\test\\PNEUMONIA\n",
      "data_padded\\train\n",
      "Successfully created the directory data_padded\\train\n",
      "data_padded\\train\\NORMAL\n",
      "Successfully created the directory data_padded\\train\\NORMAL\n"
     ]
    }
   ],
   "source": [
    "for dirname, _, filenames in os.walk(\"data\"):\n",
    "    new_dir = \"data_padded\\\\\" + dirname[5:]\n",
    "    print(new_dir)\n",
    "    try:\n",
    "        os.makedirs(new_dir, 0o755)\n",
    "    except OSError:\n",
    "        print (\"Creation of the directory %s failed\" % new_dir)\n",
    "    else:\n",
    "        print (\"Successfully created the directory %s\" % new_dir)\n",
    "\n",
    "    for filename in filenames:\n",
    "        if filename != \".DS_Store\":\n",
    "            im = cv2.imread(dirname +\"/\"+ filename, cv2.IMREAD_GRAYSCALE)\n",
    "            ht, wd= im.shape\n",
    "            ww = max_w\n",
    "            hh = max_h\n",
    "            color = 255\n",
    "            result = np.full((hh,ww), color, dtype=np.uint8)\n",
    "            # compute center offset\n",
    "            # xx = (ww - wd) // 2\n",
    "            # yy = (hh - ht) // 2\n",
    "            # start from top left\n",
    "            xx = 0\n",
    "            yy = 0\n",
    "            # copy image to new resized image\n",
    "            result[yy:yy+ht, xx:xx+wd] = im\n",
    "\n",
    "            new_dir = \"data_padded\\\\\" + dirname[5:] + \"\\\\\" + filename\n",
    "            cv2.imwrite(new_dir, result)\n",
    "\n"
   ],
   "metadata": {
    "collapsed": false,
    "pycharm": {
     "name": "#%%\n",
     "is_executing": true
    }
   }
  }
 ],
 "metadata": {
  "kernelspec": {
   "display_name": "Python 3",
   "language": "python",
   "name": "python3"
  },
  "language_info": {
   "codemirror_mode": {
    "name": "ipython",
    "version": 2
   },
   "file_extension": ".py",
   "mimetype": "text/x-python",
   "name": "python",
   "nbconvert_exporter": "python",
   "pygments_lexer": "ipython2",
   "version": "2.7.6"
  }
 },
 "nbformat": 4,
 "nbformat_minor": 0
}