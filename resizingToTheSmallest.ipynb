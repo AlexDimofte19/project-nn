{
 "cells": [
  {
   "cell_type": "code",
   "execution_count": 14,
   "id": "b24cf4c9",
   "metadata": {},
   "outputs": [
    {
     "name": "stdout",
     "output_type": "stream",
     "text": [
      "1341\n",
      "3875\n"
     ]
    }
   ],
   "source": [
    "import cv2\n",
    "import os\n",
    "\n",
    "def loadResizeUpload(folder, outputFolder):\n",
    "    images = []\n",
    "    i = 0\n",
    "    for filename in os.listdir(folder):\n",
    "        # load images\n",
    "        img = cv2.imread(os.path.join(folder,filename))\n",
    "        # desired size\n",
    "        smallestSize = (736, 1048)\n",
    "\n",
    "        # resize image\n",
    "        output = cv2.resize(img, smallestSize)\n",
    "        \n",
    "        # save images\n",
    "        cv2.imwrite(outputFolder + str(i) + '.jpeg',output) \n",
    "        \n",
    "        # store resisezed images to an array\n",
    "        if img is not None:\n",
    "            images.append(img)\n",
    "        i = i + 1\n",
    "    return images\n",
    "\n",
    "\n",
    "trainNormal = '/Users/andra/Downloads/chest_xray/train/NORMAL'\n",
    "trainPneumonia = '/Users/andra/Downloads/chest_xray/train/PNEUMONIA'\n",
    "valNormal = '/Users/andra/Downloads/chest_xray/val/NORMAL'\n",
    "valPneumonia = '/Users/andra/Downloads/chest_xray/val/PNEUMONIA'\n",
    "testNormal = '/Users/andra/Downloads/chest_xray/test/NORMAL'\n",
    "testPneumonia = '/Users/andra/Downloads/chest_xray/test/PNEUMONIA'\n",
    "\n",
    "\n",
    "trainNormalResized = '/Users/andra/Documents/resizedToTheSmallest/train/NORMAL/'\n",
    "trainPneumoniaResized = '/Users/andra/Documents/resizedToTheSmallest/train/PNEUMONIA/'\n",
    "valNormalResized = '/Users/andra/Documents/resizedToTheSmallest/val/NORMAL/'\n",
    "valPneumoniaResized = '/Users/andra/Documents/resizedToTheSmallest/val/PNEUMONIA/'\n",
    "testNormalResized = '/Users/andra/Documents/resizedToTheSmallest/test/NORMAL/'\n",
    "testPneumoniaResized = '/Users/andra/Documents/resizedToTheSmallest/test/PNEUMONIA/'\n",
    "img =[]\n",
    "img = loadResizeUpload(trainNormal,trainNormalResized)\n",
    "print(len(img))\n",
    "img = loadResizeUpload(trainPneumonia, trainPneumoniaResized)\n",
    "print(len(img))\n",
    "img = loadResizeUpload(valNormal, valNormalResized)\n",
    "print(len(img))\n",
    "img = loadResizeUpload(valPneumonia, valPneumoniaResized)\n",
    "print(len(img))\n",
    "img = loadResizeUpload(testNormal, testNormalResized)\n",
    "print(len(img))\n",
    "img = loadResizeUpload(testPneumonia, testPneumoniaResized)\n",
    "print(len(img))"
   ]
  },
  {
   "cell_type": "code",
   "execution_count": 11,
   "id": "62d5e66e",
   "metadata": {},
   "outputs": [
    {
     "name": "stdout",
     "output_type": "stream",
     "text": [
      "2234 2359\n",
      "736 1048\n",
      "1225 1632\n",
      "864 1256\n",
      "1632 1949\n",
      "808 1120\n"
     ]
    },
    {
     "data": {
      "text/plain": [
       "(808, 1120)"
      ]
     },
     "execution_count": 11,
     "metadata": {},
     "output_type": "execute_result"
    }
   ],
   "source": [
    "import cv2\n",
    "import os\n",
    "\n",
    "def findSmallest(folder, outputFolder):\n",
    "    images = []\n",
    "    i = 0\n",
    "     \n",
    "    for filename in os.listdir(folder):\n",
    "        img = cv2.imread(os.path.join(folder,filename))\n",
    "        x = img.shape[0]\n",
    "        y = img.shape[1]\n",
    "        if (i == 0):\n",
    "            minX = img.shape[0]\n",
    "            minY = img.shape[1]\n",
    "        else:\n",
    "            if minX > x:\n",
    "                x = img.shape[0]\n",
    "            if minY > y:\n",
    "                y = img.shape[1]\n",
    "        smallestSize = (127, 127)\n",
    "        i = i + 1\n",
    "    print(minX, minY)    \n",
    "    return minX,minY\n",
    "\n",
    "trainNormal = '/Users/andra/Downloads/chest_xray/train/NORMAL'\n",
    "trainPneumonia = '/Users/andra/Downloads/chest_xray/train/PNEUMONIA'\n",
    "valNormal = '/Users/andra/Downloads/chest_xray/val/NORMAL'\n",
    "valPneumonia = '/Users/andra/Downloads/chest_xray/val/PNEUMONIA'\n",
    "testNormal = '/Users/andra/Downloads/chest_xray/test/NORMAL'\n",
    "testPneumonia = '/Users/andra/Downloads/chest_xray/test/PNEUMONIA'\n",
    "\n",
    "findSmallest(trainNormal)\n",
    "\n",
    "findSmallest(trainPneumonia)\n",
    "\n",
    "findSmallest(valNormal)\n",
    "\n",
    "findSmallest(valPneumonia)\n",
    "\n",
    "findSmallest(testNormal)\n",
    "\n",
    "findSmallest(testPneumonia)"
   ]
  },
  {
   "cell_type": "code",
   "execution_count": null,
   "id": "a84b8d94",
   "metadata": {},
   "outputs": [],
   "source": []
  }
 ],
 "metadata": {
  "kernelspec": {
   "display_name": "Python 3",
   "language": "python",
   "name": "python3"
  },
  "language_info": {
   "codemirror_mode": {
    "name": "ipython",
    "version": 3
   },
   "file_extension": ".py",
   "mimetype": "text/x-python",
   "name": "python",
   "nbconvert_exporter": "python",
   "pygments_lexer": "ipython3",
   "version": "3.9.4"
  }
 },
 "nbformat": 4,
 "nbformat_minor": 5
}
