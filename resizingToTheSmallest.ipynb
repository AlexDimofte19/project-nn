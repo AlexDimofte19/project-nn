{
 "cells": [
  {
   "cell_type": "code",
   "execution_count": 1,
   "id": "6738fa8c",
   "metadata": {
    "scrolled": true
   },
   "outputs": [],
   "source": [
    "#Handle imports\n",
    "import cv2\n",
    "import os\n",
    "import numpy as np"
   ]
  },
  {
   "cell_type": "code",
   "execution_count": 2,
   "id": "3793df72",
   "metadata": {},
   "outputs": [],
   "source": [
    "#root Path\n",
    "rootPath = r\"U:\\Year 2\\NN\\modelData\\archive\\chest_xray\"\n",
    "\n",
    "width = np.inf\n",
    "height = np.inf\n",
    "\n",
    "for root, dirs, files in os.walk(rootPath):\n",
    "        for file in files:\n",
    "            if file.endswith(\".jpeg\"):\n",
    "                img = cv2.imread(os.path.join(root, file))\n",
    "                h, w, c = img.shape\n",
    "                if w < width:\n",
    "                    width = w\n",
    "                if h < height:\n",
    "                    height = h\n",
    "\n",
    "print(\"Width: \" + str(width))\n",
    "print(\"Height: \" + str(height))"
   ]
  },
  {
   "cell_type": "code",
   "execution_count": 3,
   "id": "6e42d9d6",
   "metadata": {
    "pycharm": {
     "name": "#%%\n"
    }
   },
   "outputs": [],
   "source": [
    "for root, dirs, files in os.walk(rootPath):\n",
    "    for file in files:\n",
    "        if file.endswith(\".jpeg\"):\n",
    "            cur_dir = (os.path.join(root, file))\n",
    "            img = cv2.imread(cur_dir, cv2.IMREAD_GRAYSCALE)\n",
    "            output = cv2.resize(img, (width, height))\n",
    "            cv2.imwrite(os.path.join(root, file),output)\n",
    "\n",
    "print(\"Finished resizing all images!\")"
   ]
  }
 ],
 "metadata": {
  "kernelspec": {
   "display_name": "Python 3",
   "language": "python",
   "name": "python3"
  },
  "language_info": {
   "codemirror_mode": {
    "name": "ipython",
    "version": 3
   },
   "file_extension": ".py",
   "mimetype": "text/x-python",
   "name": "python",
   "nbconvert_exporter": "python",
   "pygments_lexer": "ipython3",
   "version": "3.9.4"
  }
 },
 "nbformat": 4,
 "nbformat_minor": 5
}