{
 "cells": [
  {
   "cell_type": "code",
   "execution_count": 1,
   "id": "cfd2e2fe",
   "metadata": {},
   "outputs": [],
   "source": [
    "#Handle imports\n",
    "import cv2\n",
    "import os"
   ]
  },
  {
   "cell_type": "code",
   "execution_count": 2,
   "id": "ea14e689",
   "metadata": {
    "scrolled": true
   },
   "outputs": [
    {
     "name": "stdout",
     "output_type": "stream",
     "text": [
      "Width: 1281\n",
      "Height: 888\n"
     ]
    }
   ],
   "source": [
    "#root Path\n",
    "rootPath = r\"U:\\Year 2\\NN\\modelData\\archive\\chest_xray\"\n",
    "\n",
    "width = 0\n",
    "height = 0\n",
    "\n",
    "for root, dirs, files in os.walk(rootPath):\n",
    "        for file in files:\n",
    "            if file.endswith(\".jpeg\"):\n",
    "                img = cv2.imread(os.path.join(root, file))\n",
    "                h, w, c = img.shape\n",
    "                if w > width:\n",
    "                    width = w\n",
    "                if h > height:\n",
    "                    height = h\n",
    "\n",
    "print(\"Width: \" + str(width))\n",
    "print(\"Height: \" + str(height))"
   ]
  },
  {
   "cell_type": "code",
   "execution_count": 9,
   "id": "23c7660c",
   "metadata": {
    "pycharm": {
     "name": "#%%\n"
    }
   },
   "outputs": [
    {
     "name": "stdout",
     "output_type": "stream",
     "text": [
      "Finished resizing all images!\n"
     ]
    }
   ],
   "source": [
    "for root, dirs, files in os.walk(rootPath):\n",
    "    for file in files:\n",
    "        if file.endswith(\".jpeg\"):\n",
    "            cur_dir = (os.path.join(root, file))\n",
    "            img = cv2.imread(cur_dir, cv2.IMREAD_GRAYSCALE)\n",
    "            output = cv2.resize(img, (width, height))\n",
    "            cv2.imwrite(os.path.join(root, file),output)\n",
    "            \n",
    "print(\"Finished resizing all images!\")"
   ]
  },
  {
   "cell_type": "code",
   "execution_count": null,
   "id": "a16dea7b",
   "metadata": {
    "pycharm": {
     "name": "#%%\n"
    }
   },
   "outputs": [],
   "source": []
  }
 ],
 "metadata": {
  "kernelspec": {
   "display_name": "Python 3",
   "language": "python",
   "name": "python3"
  },
  "language_info": {
   "codemirror_mode": {
    "name": "ipython",
    "version": 3
   },
   "file_extension": ".py",
   "mimetype": "text/x-python",
   "name": "python",
   "nbconvert_exporter": "python",
   "pygments_lexer": "ipython3",
   "version": "3.9.1"
  }
 },
 "nbformat": 4,
 "nbformat_minor": 5
}
